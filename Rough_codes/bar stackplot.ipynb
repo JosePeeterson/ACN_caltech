{
 "cells": [
  {
   "cell_type": "code",
   "execution_count": 27,
   "id": "fb503841",
   "metadata": {},
   "outputs": [
    {
     "data": {
      "text/plain": [
       "<Figure size 432x288 with 0 Axes>"
      ]
     },
     "metadata": {},
     "output_type": "display_data"
    },
    {
     "data": {
      "image/png": "[encoded data removed]",
      "text/plain": [
       "<Figure size 432x288 with 1 Axes>"
      ]
     },
     "metadata": {
      "needs_background": "light"
     },
     "output_type": "display_data"
    }
   ],
   "source": [
    "import datetime\n",
    "import matplotlib.pyplot as plt\n",
    "import pandas as pd\n",
    "import numpy as np\n",
    "\n",
    "viz_opt_time = [\"2022-3-10 05:00:32\", \"2022-3-10 05:10:32\",\"2022-3-10 07:00:32\"]\n",
    "\n",
    "fmt_str = \"%Y-%m-%d %H:%M:%S\"\n",
    "\n",
    "dt_viz_opt_time = []\n",
    "\n",
    "for str_date in viz_opt_time:\n",
    "    date_obj = datetime.datetime.strptime(str_date,fmt_str)\n",
    "    dt_viz_opt_time.append(date_obj)\n",
    "\n",
    "viz_peak_per_veh = [[1,4,1,5,2,3,2],[0,4,5,0,1,2],[0,1,0,0,3]]\n",
    "\n",
    "# plt.plot(dt_viz_opt_time, [1,2,3],'*')\n",
    "# plt.show()\n",
    "\n",
    "col_stack = plt.cm.nipy_spectral(np.linspace(0,1,7))\n",
    "\n",
    "plt.figure()\n",
    "df = pd.DataFrame(viz_peak_per_veh, index=dt_viz_opt_time)\n",
    "if not df.empty:\n",
    "    ax = df.plot.bar(stacked=True,color=col_stack, )\n",
    "\n",
    "plt.text(1,20,'jflskj')\n",
    "    \n",
    "plt.plot(dt_viz_opt_time, [sum(x)+5 for x in viz_peak_per_veh],'b*')\n",
    "plt.show()"
   ]
  },
  {
   "cell_type": "code",
   "execution_count": null,
   "id": "7b0ef28b",
   "metadata": {},
   "outputs": [],
   "source": []
  }
 ],
 "metadata": {
  "kernelspec": {
   "display_name": "Python 3 (ipykernel)",
   "language": "python",
   "name": "python3"
  },
  "language_info": {
   "codemirror_mode": {
    "name": "ipython",
    "version": 3
   },
   "file_extension": ".py",
   "mimetype": "text/x-python",
   "name": "python",
   "nbconvert_exporter": "python",
   "pygments_lexer": "ipython3",
   "version": "3.9.5"
  }
 },
 "nbformat": 4,
 "nbformat_minor": 5
}
